{
 "cells": [
  {
   "cell_type": "code",
   "execution_count": 1,
   "metadata": {},
   "outputs": [
    {
     "name": "stderr",
     "output_type": "stream",
     "text": [
      "Installing package into ‘/home/jupyter/R/x86_64-pc-linux-gnu-library/4.0’\n",
      "(as ‘lib’ is unspecified)\n",
      "\n",
      "── \u001b[1mAttaching packages\u001b[22m ─────────────────────────────────────── tidyverse 1.3.0 ──\n",
      "\n",
      "\u001b[32m✔\u001b[39m \u001b[34mggplot2\u001b[39m 3.3.2     \u001b[32m✔\u001b[39m \u001b[34mpurrr  \u001b[39m 0.3.4\n",
      "\u001b[32m✔\u001b[39m \u001b[34mtibble \u001b[39m 3.0.3     \u001b[32m✔\u001b[39m \u001b[34mdplyr  \u001b[39m 1.0.1\n",
      "\u001b[32m✔\u001b[39m \u001b[34mtidyr  \u001b[39m 1.1.1     \u001b[32m✔\u001b[39m \u001b[34mstringr\u001b[39m 1.4.0\n",
      "\u001b[32m✔\u001b[39m \u001b[34mreadr  \u001b[39m 1.3.1     \u001b[32m✔\u001b[39m \u001b[34mforcats\u001b[39m 0.5.0\n",
      "\n",
      "── \u001b[1mConflicts\u001b[22m ────────────────────────────────────────── tidyverse_conflicts() ──\n",
      "\u001b[31m✖\u001b[39m \u001b[34mdplyr\u001b[39m::\u001b[32mfilter()\u001b[39m masks \u001b[34mstats\u001b[39m::filter()\n",
      "\u001b[31m✖\u001b[39m \u001b[34mdplyr\u001b[39m::\u001b[32mlag()\u001b[39m    masks \u001b[34mstats\u001b[39m::lag()\n",
      "\n"
     ]
    }
   ],
   "source": [
    "install.packages(\"jtools\")\n",
    "library(\"tidyverse\") #load packages\n",
    "library(\"jtools\")\n",
    "set.seed(1437) #Set the random number generator"
   ]
  },
  {
   "cell_type": "markdown",
   "metadata": {},
   "source": [
    "# Omitted Variables Bias"
   ]
  },
  {
   "cell_type": "markdown",
   "metadata": {},
   "source": [
    "Omitted variables bias is a common issue in many models, and can be interpreted in several different ways.  Let's look at it in the simplest possible form, and then in the form related to selection."
   ]
  },
  {
   "cell_type": "markdown",
   "metadata": {},
   "source": [
    "Consider the following simple model, where $i$ is a population of Canadian workers, $y$ represents **wages**, $e$ represents **years of education**, and $t$ represents **job-tenure**.  \n",
    "\n",
    "Now, let's suppose this is a classic Spence-style model, where individuals are paid their marginal product, and where education has no direct effect on productivity (and hence wages).  Instead, what really matters is $a$, **ability**.  In other words, the true model looks like:"
   ]
  },
  {
   "cell_type": "markdown",
   "metadata": {},
   "source": [
    "$$y_i = \\beta_0 + \\beta_1 t + \\beta_2 a + \\epsilon_i$$"
   ]
  },
  {
   "cell_type": "markdown",
   "metadata": {},
   "source": [
    "However, what we estimate is instead the following model:\n",
    "\n",
    "$$y_i = B_0 + B_1 t + B_2 e + e_i$$"
   ]
  },
  {
   "cell_type": "markdown",
   "metadata": {},
   "source": [
    "What we need to understand are the consequences of this decision - in particular what it implies about $B_1$ and $B_2$.  Some key questions are:\n",
    "\n",
    "* Under what conditions will I correctly estimate $B_1 = \\beta_1$?  Will I infer that $B_2 = 0$?  \n",
    "* What are the consequences of leaving out a variable?  What happens to the rest of my model?"
   ]
  },
  {
   "cell_type": "markdown",
   "metadata": {},
   "source": [
    "## Case 1: Simple Correlation"
   ]
  },
  {
   "cell_type": "markdown",
   "metadata": {},
   "source": [
    "To begin, we will simulate a pair of models: one where $a$, $t$, and $e$ are correlated, and a version where $t$ is not related to ability or education"
   ]
  },
  {
   "cell_type": "code",
   "execution_count": 2,
   "metadata": {},
   "outputs": [
    {
     "name": "stdout",
     "output_type": "stream",
     "text": [
      "The correlation between education and ability is 0.99 \n",
      "The correlation between tenure and ability is 0.89 \n",
      "The correlation between tenure2 and ability is 0 \n"
     ]
    }
   ],
   "source": [
    "n = 500000 #sample size is 500,000\n",
    "\n",
    "ability = runif(n, min = 0, max = 100) #ability is between 1 and 100 (normalized)\n",
    "\n",
    "education = ability/5 + runif(n, min = 0, 2)\n",
    "education = round(education, digits = 0)\n",
    "# education is a strong function of ability\n",
    "\n",
    "c1 = round(cor(education, ability), digits = 2)\n",
    "cat(\"The correlation between education and ability is\", c1, \"\\n\")\n",
    "\n",
    "# Tenure is also correlated with ability\n",
    "\n",
    "tenure = ability/5 + runif(n, min = 0, 10)\n",
    "tenure = round(tenure, digits = 0)\n",
    "\n",
    "c2 = round(cor(tenure, ability), digits = 2)\n",
    "cat(\"The correlation between tenure and ability is\", c2, \"\\n\")\n",
    "\n",
    "# Now, let's create the true model\n",
    "\n",
    "wage = 12 + 0.65*tenure + 0.10*ability + rnorm(n, mean = 0, sd = 2.5)\n",
    "\n",
    "wage_data = tibble(wage, tenure, education, ability) #create data frame\n",
    "\n",
    "## Now, let's make our uncorrelated data\n",
    "\n",
    "tenure2 = runif(n, min = 0, 10) + 10 #same average tenure, but not related\n",
    "c3 = round(cor(tenure2, ability), digits = 2)\n",
    "cat(\"The correlation between tenure2 and ability is\", c3, \"\\n\")\n",
    "\n",
    "wage2 = 12 + 0.65*tenure2 + 0.10*ability + rnorm(n, mean = 0, sd = 2.5)\n",
    "\n",
    "wage_data2 = tibble(wage2, tenure2, education, ability) #create data frame\n"
   ]
  },
  {
   "cell_type": "markdown",
   "metadata": {},
   "source": [
    "First, let's verify the true model; we should expect that $\\beta_0 = 12$, $\\beta_1 = 0.65$ and $\\beta_2 = 0.10$.  Education, if included in the model, should have zero coefficient."
   ]
  },
  {
   "cell_type": "code",
   "execution_count": 3,
   "metadata": {},
   "outputs": [
    {
     "data": {
      "text/plain": [
       "\u001b[4mMODEL INFO:\u001b[24m\n",
       "\u001b[3mObservations:\u001b[23m 500000\n",
       "\u001b[3mDependent Variable:\u001b[23m wage\n",
       "\u001b[3mType:\u001b[23m OLS linear regression \n",
       "\n",
       "\u001b[4mMODEL FIT:\u001b[24m\n",
       "\u001b[3mF\u001b[23m(2,499997) = 1897276.12, \u001b[3mp\u001b[23m = 0.00\n",
       "\u001b[3mR² = \u001b[23m0.88\n",
       "\u001b[3mAdj. R² = \u001b[23m0.88 \n",
       "\n",
       "\u001b[3mStandard errors: OLS\u001b[23m\n",
       "-------------------------------------------------\n",
       "                     Est.   S.E.    t val.      p\n",
       "----------------- ------- ------ --------- ------\n",
       "(Intercept)         12.02   0.01   1283.79   0.00\n",
       "tenure               0.65   0.00    530.32   0.00\n",
       "ability              0.10   0.00    368.20   0.00\n",
       "-------------------------------------------------"
      ]
     },
     "metadata": {},
     "output_type": "display_data"
    },
    {
     "data": {
      "text/plain": [
       "\u001b[4mMODEL INFO:\u001b[24m\n",
       "\u001b[3mObservations:\u001b[23m 500000\n",
       "\u001b[3mDependent Variable:\u001b[23m wage\n",
       "\u001b[3mType:\u001b[23m OLS linear regression \n",
       "\n",
       "\u001b[4mMODEL FIT:\u001b[24m\n",
       "\u001b[3mF\u001b[23m(3,499996) = 1264857.45, \u001b[3mp\u001b[23m = 0.00\n",
       "\u001b[3mR² = \u001b[23m0.88\n",
       "\u001b[3mAdj. R² = \u001b[23m0.88 \n",
       "\n",
       "\u001b[3mStandard errors: OLS\u001b[23m\n",
       "-------------------------------------------------\n",
       "                     Est.   S.E.    t val.      p\n",
       "----------------- ------- ------ --------- ------\n",
       "(Intercept)         12.03   0.01   1110.41   0.00\n",
       "tenure               0.65   0.00    530.32   0.00\n",
       "ability              0.10   0.00     90.82   0.00\n",
       "education           -0.01   0.01     -1.80   0.07\n",
       "-------------------------------------------------"
      ]
     },
     "metadata": {},
     "output_type": "display_data"
    },
    {
     "data": {
      "text/plain": [
       "\u001b[4mMODEL INFO:\u001b[24m\n",
       "\u001b[3mObservations:\u001b[23m 500000\n",
       "\u001b[3mDependent Variable:\u001b[23m wage2\n",
       "\u001b[3mType:\u001b[23m OLS linear regression \n",
       "\n",
       "\u001b[4mMODEL FIT:\u001b[24m\n",
       "\u001b[3mF\u001b[23m(3,499996) = 314951.12, \u001b[3mp\u001b[23m = 0.00\n",
       "\u001b[3mR² = \u001b[23m0.65\n",
       "\u001b[3mAdj. R² = \u001b[23m0.65 \n",
       "\n",
       "\u001b[3mStandard errors: OLS\u001b[23m\n",
       "------------------------------------------------\n",
       "                     Est.   S.E.   t val.      p\n",
       "----------------- ------- ------ -------- ------\n",
       "(Intercept)         12.01   0.02   587.07   0.00\n",
       "tenure2              0.65   0.00   530.00   0.00\n",
       "ability              0.10   0.00    89.81   0.00\n",
       "education            0.00   0.01     0.82   0.41\n",
       "------------------------------------------------"
      ]
     },
     "metadata": {},
     "output_type": "display_data"
    }
   ],
   "source": [
    "true_model <- lm(data = wage_data, formula = wage ~ tenure + ability)\n",
    "summ(true_model)\n",
    "true_model2 <- lm(data = wage_data, formula = wage ~ tenure + ability + education)\n",
    "summ(true_model2)\n",
    "true_model3 <- lm(data = wage_data2, formula = wage2 ~ tenure2 + ability + education)\n",
    "summ(true_model3)"
   ]
  },
  {
   "cell_type": "markdown",
   "metadata": {},
   "source": [
    "This is exactly what we expect, based on the true model"
   ]
  },
  {
   "cell_type": "markdown",
   "metadata": {},
   "source": [
    "So, what happens if we leave out ability (since we cannot observe it)?"
   ]
  },
  {
   "cell_type": "code",
   "execution_count": 4,
   "metadata": {},
   "outputs": [
    {
     "data": {
      "text/plain": [
       "\u001b[4mMODEL INFO:\u001b[24m\n",
       "\u001b[3mObservations:\u001b[23m 500000\n",
       "\u001b[3mDependent Variable:\u001b[23m wage\n",
       "\u001b[3mType:\u001b[23m OLS linear regression \n",
       "\n",
       "\u001b[4mMODEL FIT:\u001b[24m\n",
       "\u001b[3mF\u001b[23m(1,499998) = 2878501.71, \u001b[3mp\u001b[23m = 0.00\n",
       "\u001b[3mR² = \u001b[23m0.85\n",
       "\u001b[3mAdj. R² = \u001b[23m0.85 \n",
       "\n",
       "\u001b[3mStandard errors: OLS\u001b[23m\n",
       "-------------------------------------------------\n",
       "                     Est.   S.E.    t val.      p\n",
       "----------------- ------- ------ --------- ------\n",
       "(Intercept)         11.02   0.01   1090.84   0.00\n",
       "tenure               1.05   0.00   1696.61   0.00\n",
       "-------------------------------------------------"
      ]
     },
     "metadata": {},
     "output_type": "display_data"
    }
   ],
   "source": [
    "model1 <- lm(data = wage_data, formula = wage ~ tenure)\n",
    "summ(model1)"
   ]
  },
  {
   "cell_type": "markdown",
   "metadata": {},
   "source": [
    "This is very, very wrong - the coefficient on tenure is twice as large!\n",
    "\n",
    "What's happening here?  When we omit a variable which is correlated, the \"effect\" spills over to other correlated variables.  You can see this in the other model, where tenure and ability were unrelated"
   ]
  },
  {
   "cell_type": "code",
   "execution_count": 5,
   "metadata": {},
   "outputs": [
    {
     "data": {
      "text/plain": [
       "\u001b[4mMODEL INFO:\u001b[24m\n",
       "\u001b[3mObservations:\u001b[23m 500000\n",
       "\u001b[3mDependent Variable:\u001b[23m wage2\n",
       "\u001b[3mType:\u001b[23m OLS linear regression \n",
       "\n",
       "\u001b[4mMODEL FIT:\u001b[24m\n",
       "\u001b[3mF\u001b[23m(1,499998) = 120779.36, \u001b[3mp\u001b[23m = 0.00\n",
       "\u001b[3mR² = \u001b[23m0.19\n",
       "\u001b[3mAdj. R² = \u001b[23m0.19 \n",
       "\n",
       "\u001b[3mStandard errors: OLS\u001b[23m\n",
       "------------------------------------------------\n",
       "                     Est.   S.E.   t val.      p\n",
       "----------------- ------- ------ -------- ------\n",
       "(Intercept)         17.01   0.03   594.97   0.00\n",
       "tenure2              0.65   0.00   347.53   0.00\n",
       "------------------------------------------------"
      ]
     },
     "metadata": {},
     "output_type": "display_data"
    }
   ],
   "source": [
    "model2 <- lm(data = wage_data2, formula = wage2 ~ tenure2)\n",
    "summ(model2)"
   ]
  },
  {
   "cell_type": "markdown",
   "metadata": {},
   "source": [
    "The numbers are still correct!  This is because the omitted variable was unrelated to tenure variable."
   ]
  },
  {
   "cell_type": "markdown",
   "metadata": {},
   "source": [
    "## Adding Education into the Mix"
   ]
  },
  {
   "cell_type": "markdown",
   "metadata": {},
   "source": [
    "Recall that education is a very strong function of ability; they are nearly perfectly correlated.  What does this do?"
   ]
  },
  {
   "cell_type": "code",
   "execution_count": 6,
   "metadata": {},
   "outputs": [
    {
     "data": {
      "text/plain": [
       "\u001b[4mMODEL INFO:\u001b[24m\n",
       "\u001b[3mObservations:\u001b[23m 500000\n",
       "\u001b[3mDependent Variable:\u001b[23m wage\n",
       "\u001b[3mType:\u001b[23m OLS linear regression \n",
       "\n",
       "\u001b[4mMODEL FIT:\u001b[24m\n",
       "\u001b[3mF\u001b[23m(2,499997) = 1862443.79, \u001b[3mp\u001b[23m = 0.00\n",
       "\u001b[3mR² = \u001b[23m0.88\n",
       "\u001b[3mAdj. R² = \u001b[23m0.88 \n",
       "\n",
       "\u001b[3mStandard errors: OLS\u001b[23m\n",
       "-------------------------------------------------\n",
       "                     Est.   S.E.    t val.      p\n",
       "----------------- ------- ------ --------- ------\n",
       "(Intercept)         11.49   0.01   1258.16   0.00\n",
       "tenure               0.67   0.00    558.01   0.00\n",
       "education            0.47   0.00    353.92   0.00\n",
       "-------------------------------------------------"
      ]
     },
     "metadata": {},
     "output_type": "display_data"
    }
   ],
   "source": [
    "model1 <- lm(data = wage_data, formula = wage ~ tenure + education)\n",
    "summ(model1)"
   ]
  },
  {
   "cell_type": "markdown",
   "metadata": {},
   "source": [
    "Look!  The cofficient on tenure is now nearly correct; the education one is completely wrong, but tenure is close.  Consider the uncorrelated model:"
   ]
  },
  {
   "cell_type": "code",
   "execution_count": 7,
   "metadata": {},
   "outputs": [
    {
     "data": {
      "text/plain": [
       "\u001b[4mMODEL INFO:\u001b[24m\n",
       "\u001b[3mObservations:\u001b[23m 500000\n",
       "\u001b[3mDependent Variable:\u001b[23m wage2\n",
       "\u001b[3mType:\u001b[23m OLS linear regression \n",
       "\n",
       "\u001b[4mMODEL FIT:\u001b[24m\n",
       "\u001b[3mF\u001b[23m(2,499997) = 460959.67, \u001b[3mp\u001b[23m = 0.00\n",
       "\u001b[3mR² = \u001b[23m0.65\n",
       "\u001b[3mAdj. R² = \u001b[23m0.65 \n",
       "\n",
       "\u001b[3mStandard errors: OLS\u001b[23m\n",
       "------------------------------------------------\n",
       "                     Est.   S.E.   t val.      p\n",
       "----------------- ------- ------ -------- ------\n",
       "(Intercept)         11.58   0.02   577.50   0.00\n",
       "tenure2              0.65   0.00   525.81   0.00\n",
       "education            0.49   0.00   803.29   0.00\n",
       "------------------------------------------------"
      ]
     },
     "metadata": {},
     "output_type": "display_data"
    }
   ],
   "source": [
    "model2 <- lm(data = wage_data2, formula = wage2 ~ tenure2 + education)\n",
    "summ(model2)"
   ]
  },
  {
   "cell_type": "markdown",
   "metadata": {},
   "source": [
    "Same result as before; education is wrong, but tenure is right."
   ]
  },
  {
   "cell_type": "markdown",
   "metadata": {},
   "source": [
    "### What is happening here?\n",
    "\n",
    "When you omit a variable, the causal effect of that variable \"spills over\" to other variables in your model.  However, it spills over the MOST to variables which it is highly correlated; these \"absorb\" the effect.\n",
    "\n",
    "In our example here, the ability variable spills over to both tenure and education - but because education is more correlated than tenure, the education variable is very wrong, while tenure is nearly right.\n",
    "\n",
    "If you change the cell above to make education a perfect predictor of ability, you will see an interesting result; can you guess what it is?"
   ]
  },
  {
   "cell_type": "markdown",
   "metadata": {},
   "source": [
    "## Omitted Variables and Selection\n",
    "\n",
    "One way of thinking about this relationship is in terms of selection.\n",
    "\n",
    "The key feature was the correlation, created in our model with:\n",
    "\n",
    "```tenure = ability/5 + runif(n, min = 0, 10)```\n",
    "\n",
    "You can think of this as an equation which represents selection:\n",
    "\n",
    "$$t_i = \\theta_0 + \\theta_1 a_i + \\eta_i$$\n",
    "\n",
    "In our first model, $\\theta_0  = 5$ and $\\theta_1 = 0.2$ (and the residual, $\\eta_i$ is uniform on $-5,5$, but that isn't important).  You can see this since we can actually estimate this model:"
   ]
  },
  {
   "cell_type": "code",
   "execution_count": 8,
   "metadata": {},
   "outputs": [
    {
     "data": {
      "text/plain": [
       "\u001b[4mMODEL INFO:\u001b[24m\n",
       "\u001b[3mObservations:\u001b[23m 500000\n",
       "\u001b[3mDependent Variable:\u001b[23m tenure\n",
       "\u001b[3mType:\u001b[23m OLS linear regression \n",
       "\n",
       "\u001b[4mMODEL FIT:\u001b[24m\n",
       "\u001b[3mF\u001b[23m(1,499998) = 1977773.15, \u001b[3mp\u001b[23m = 0.00\n",
       "\u001b[3mR² = \u001b[23m0.80\n",
       "\u001b[3mAdj. R² = \u001b[23m0.80 \n",
       "\n",
       "\u001b[3mStandard errors: OLS\u001b[23m\n",
       "------------------------------------------------\n",
       "                    Est.   S.E.    t val.      p\n",
       "----------------- ------ ------ --------- ------\n",
       "(Intercept)         5.01   0.01    610.16   0.00\n",
       "ability             0.20   0.00   1406.33   0.00\n",
       "------------------------------------------------"
      ]
     },
     "metadata": {},
     "output_type": "display_data"
    }
   ],
   "source": [
    "selection_model <- lm(data = wage_data, formula = tenure ~ ability)\n",
    "summ(selection_model)"
   ]
  },
  {
   "cell_type": "markdown",
   "metadata": {},
   "source": [
    "In the other model, $\\theta_1 = 0$."
   ]
  },
  {
   "cell_type": "code",
   "execution_count": 9,
   "metadata": {},
   "outputs": [
    {
     "data": {
      "text/plain": [
       "\u001b[4mMODEL INFO:\u001b[24m\n",
       "\u001b[3mObservations:\u001b[23m 500000\n",
       "\u001b[3mDependent Variable:\u001b[23m tenure2\n",
       "\u001b[3mType:\u001b[23m OLS linear regression \n",
       "\n",
       "\u001b[4mMODEL FIT:\u001b[24m\n",
       "\u001b[3mF\u001b[23m(1,499998) = 0.03, \u001b[3mp\u001b[23m = 0.86\n",
       "\u001b[3mR² = \u001b[23m0.00\n",
       "\u001b[3mAdj. R² = \u001b[23m-0.00 \n",
       "\n",
       "\u001b[3mStandard errors: OLS\u001b[23m\n",
       "-------------------------------------------------\n",
       "                     Est.   S.E.    t val.      p\n",
       "----------------- ------- ------ --------- ------\n",
       "(Intercept)         15.01   0.01   1837.70   0.00\n",
       "ability              0.00   0.00      0.17   0.86\n",
       "-------------------------------------------------"
      ]
     },
     "metadata": {},
     "output_type": "display_data"
    }
   ],
   "source": [
    "selection_model2 <- lm(data = wage_data2, formula = tenure2 ~ ability)\n",
    "summ(selection_model2)"
   ]
  },
  {
   "cell_type": "markdown",
   "metadata": {},
   "source": [
    "This is exactly what we expected!  Now normally this kind of check is impossible, since ability is not observed - but this is what is occuring behind the scenes.  The cofficient on ability in this kind of model, determines the amount of spillover!"
   ]
  },
  {
   "cell_type": "code",
   "execution_count": null,
   "metadata": {},
   "outputs": [],
   "source": []
  }
 ],
 "metadata": {
  "kernelspec": {
   "display_name": "R",
   "language": "R",
   "name": "ir"
  },
  "language_info": {
   "codemirror_mode": "r",
   "file_extension": ".r",
   "mimetype": "text/x-r-source",
   "name": "R",
   "pygments_lexer": "r",
   "version": "4.0.2"
  }
 },
 "nbformat": 4,
 "nbformat_minor": 4
}
